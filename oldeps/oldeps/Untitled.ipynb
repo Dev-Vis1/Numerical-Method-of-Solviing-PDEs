{
 "cells": [
  {
   "cell_type": "code",
   "execution_count": 1,
   "id": "5a6f9e11",
   "metadata": {},
   "outputs": [
    {
     "name": "stdout",
     "output_type": "stream",
     "text": [
      "2.220446049250313e-16\n"
     ]
    }
   ],
   "source": [
    "#!/usr/bin/env python\n",
    "# -*- coding: utf-8 -*-\n",
    "\"\"\"\n",
    "NAME:      oldeps.py (module file)\n",
    "FUNCTION:  This module contains a function to calculate epsilon - the old way\n",
    "AUTHOR:    Joern Behrens, translated from Matlab to Python by Philipp Sommer, edited by JB.\n",
    "\"\"\"\n",
    "\n",
    "def oldeps():\n",
    "  \"\"\"\n",
    "  FUNCTION:  determine/estimate EPS like in the old times\n",
    "  SYNTAX:    oldeps()\n",
    "  REFERENCE: C. Moler: Numerical Computing with MATLAB, SIAM, 2004\n",
    "  VERSION:   1. original version\n",
    "  AUTHOR:    J. Behrens (behrens@ma.tum.de)\n",
    "  \"\"\"\n",
    "  ##--- switch to long format\n",
    "  #format long\n",
    "  \n",
    "  #--- this is the crucial calculation with roundoff\n",
    "  a= 4./ 3.\n",
    "  \n",
    "  #--- the rest can be done exactly in floating point representation\n",
    "  b= a- 1.\n",
    "  c= 3.* b\n",
    "  e= 1.- c.\n",
    "\n",
    "  print(e)\n",
    "  return e\n",
    "\n",
    "#--- end of oldeps.m\n",
    "\n",
    "if __name__=='__main__':\n",
    "  oldeps()\n",
    "\n",
    "#masa.avakumovic@uni-hamburg.de"
   ]
  },
  {
   "cell_type": "code",
   "execution_count": 4,
   "id": "8a4f1417",
   "metadata": {},
   "outputs": [
    {
     "name": "stdout",
     "output_type": "stream",
     "text": [
      "2.220446049250313e-16\n"
     ]
    }
   ],
   "source": [
    "def oldeps():\n",
    "    epsilon = 1\n",
    "    \n",
    "    while 1+epsilon != 1:\n",
    "        \n",
    "        epsilon /= 2\n",
    "        \n",
    "    print(2*epsilon)\n",
    "        \n",
    "        \n",
    "oldeps()"
   ]
  },
  {
   "cell_type": "code",
   "execution_count": 14,
   "id": "7f45d5a2",
   "metadata": {},
   "outputs": [
    {
     "name": "stdout",
     "output_type": "stream",
     "text": [
      "1\n",
      "0.5\n",
      "0.25\n",
      "0.125\n",
      "0.0625\n",
      "0.03125\n",
      "0.015625\n",
      "0.0078125\n",
      "0.00390625\n",
      "0.001953125\n",
      "0.0009765625\n",
      "0.00048828125\n",
      "0.000244140625\n",
      "0.0001220703125\n",
      "6.103515625e-05\n",
      "3.0517578125e-05\n",
      "1.52587890625e-05\n",
      "7.62939453125e-06\n",
      "3.814697265625e-06\n",
      "1.9073486328125e-06\n",
      "9.5367431640625e-07\n",
      "4.76837158203125e-07\n",
      "2.384185791015625e-07\n",
      "1.1920928955078125e-07\n",
      "5.960464477539063e-08\n",
      "2.9802322387695312e-08\n",
      "1.4901161193847656e-08\n",
      "7.450580596923828e-09\n",
      "3.725290298461914e-09\n",
      "1.862645149230957e-09\n",
      "9.313225746154785e-10\n",
      "4.656612873077393e-10\n",
      "2.3283064365386963e-10\n",
      "1.1641532182693481e-10\n",
      "5.820766091346741e-11\n",
      "2.9103830456733704e-11\n",
      "1.4551915228366852e-11\n",
      "7.275957614183426e-12\n",
      "3.637978807091713e-12\n",
      "1.8189894035458565e-12\n",
      "9.094947017729282e-13\n",
      "4.547473508864641e-13\n",
      "2.2737367544323206e-13\n",
      "1.1368683772161603e-13\n",
      "5.684341886080802e-14\n",
      "2.842170943040401e-14\n",
      "1.4210854715202004e-14\n",
      "7.105427357601002e-15\n",
      "3.552713678800501e-15\n",
      "1.7763568394002505e-15\n",
      "8.881784197001252e-16\n",
      "4.440892098500626e-16\n",
      "2.220446049250313e-16\n"
     ]
    }
   ],
   "source": [
    "def oldeps():\n",
    "    epsilon = 1\n",
    "    \n",
    "    while 1+epsilon != 1:\n",
    "        print(epsilon)\n",
    "        epsilon /= 2\n",
    "        \n",
    "        \n",
    "    #print(epsilon)\n",
    "        \n",
    "        \n",
    "oldeps()"
   ]
  },
  {
   "cell_type": "code",
   "execution_count": null,
   "id": "ce5d6fad",
   "metadata": {},
   "outputs": [],
   "source": [
    "def test():\n",
    "    \n",
    "    a= 1.1\n",
    "    #while (4 - 3 * a) != 1 :\n",
    "    #   print(4 - 3 * a)\n",
    "      #  a = a/2\n",
    "        \n",
    "        \n",
    "test()"
   ]
  },
  {
   "cell_type": "code",
   "execution_count": 97,
   "id": "f1fa2d45",
   "metadata": {},
   "outputs": [],
   "source": [
    "date = datetime.datetime.strptime(\"01/01/2024\", \"%m/%d/%Y\")\n",
    "\n",
    "#import openpyxl\n",
    "#from openpyxl.styles import Alignment\n",
    "#from openpyxl.styles import Border, Side\n",
    "import datetime\n",
    "import pandas as pd\n",
    "#from flask import Flask, render_template, request\n",
    "import os\n",
    "\n",
    "\n",
    "def dat_fun(cs,date):\n",
    "\n",
    "    date1 = date #+ datetime.timedelta(weeks = wks) \n",
    "    #print(date1)\n",
    "    quarter = pd.Timestamp(date1).quarter\n",
    "    year = pd.Timestamp(date1).year\n",
    "    week =date1.isocalendar()[1]\n",
    "    print(date1,quarter,year,week)\n",
    "\n",
    "    \n",
    "    quarter1 = quarter % 4 + 1\n",
    "    start_month = (quarter1 - 1) * 3 + 1\n",
    "    if quarter == 4:\n",
    "        year = year + 1\n",
    "    start_date =datetime.date(year, start_month, 1)\n",
    "    end_week_number = start_date.isocalendar()[1]\n",
    "    #start_date = start_date.strftime(\"%m/%d/%Y\")\n",
    "    total_weeks = abs(start_date - date1.date()).days // 7\n",
    "    ce = cs + total_weeks\n",
    "    print(end_week_number,quarter1,start_month,start_date,ce)\n",
    "\n",
    "    #date1 = date + datetime.timedelta(weeks = end_week_number)\n",
    "\n",
    "    #worksheet.cell(row=1,column=cs).value = 'Q' + str(quarter) + ' ' + str(year)\n",
    "    #worksheet.merge_cells(start_row=1, start_column=cs, end_row=1, end_column=ce)\n",
    "    #worksheet.cell(row=1,column=cs).alignment = Alignment(horizontal='center')\n",
    "\n",
    "    date = date + datetime.timedelta(weeks = total_weeks) \n",
    "    #print(ce,date1)\n",
    "\n",
    "    return ce,date"
   ]
  },
  {
   "cell_type": "code",
   "execution_count": 98,
   "id": "c5a3883c",
   "metadata": {},
   "outputs": [
    {
     "name": "stdout",
     "output_type": "stream",
     "text": [
      "2024-01-01 00:00:00 1 2024 1\n",
      "14 2 4 2024-04-01 15\n"
     ]
    }
   ],
   "source": [
    "a,b = dat_fun(2,date)"
   ]
  },
  {
   "cell_type": "code",
   "execution_count": 99,
   "id": "df00c8a0",
   "metadata": {},
   "outputs": [
    {
     "name": "stdout",
     "output_type": "stream",
     "text": [
      "2024-04-01 00:00:00 2 2024 14\n",
      "27 3 7 2024-07-01 28\n"
     ]
    },
    {
     "data": {
      "text/plain": [
       "(28, datetime.datetime(2024, 7, 1, 0, 0))"
      ]
     },
     "execution_count": 99,
     "metadata": {},
     "output_type": "execute_result"
    }
   ],
   "source": [
    "dat_fun(a,b)"
   ]
  },
  {
   "cell_type": "code",
   "execution_count": 40,
   "id": "1071e576",
   "metadata": {},
   "outputs": [
    {
     "data": {
      "text/plain": [
       "0"
      ]
     },
     "execution_count": 40,
     "metadata": {},
     "output_type": "execute_result"
    }
   ],
   "source": [
    "4 % 4"
   ]
  },
  {
   "cell_type": "code",
   "execution_count": null,
   "id": "e2eca485",
   "metadata": {},
   "outputs": [],
   "source": [
    " '''   def dat_fun(cs,date):\n",
    "        date1 = date #+ datetime.timedelta(weeks = wks) \n",
    "        quarter = pd.Timestamp(date1).quarter\n",
    "        year = pd.Timestamp(date1).year\n",
    "        week =date1.isocalendar()[1]\n",
    "\n",
    "        \n",
    "        quarter1 = quarter % 4 + 1\n",
    "        start_month = (quarter1 - 1) * 3 + 1\n",
    "        start_date = datetime.date(year, start_month, 1)\n",
    "        end_week_number = start_date.isocalendar()[1]\n",
    "        ce = cs + (end_week_number - week)\n",
    "\n",
    "        #date1 = date + datetime.timedelta(weeks = end_week_number)\n",
    "\n",
    "        worksheet.cell(row=1,column=cs).value = 'Q' + str(quarter) + ' ' + str(year)\n",
    "        worksheet.merge_cells(start_row=1, start_column=cs, end_row=1, end_column=ce)\n",
    "        worksheet.cell(row=1,column=cs).alignment = Alignment(horizontal='center')\n",
    "\n",
    "        date = date + datetime.timedelta(weeks = end_week_number - week) \n",
    "\n",
    "\n",
    "        return ce,date\n",
    "    \n",
    "    date = datetime.datetime.strptime(project_start_date, \"%m/%d/%Y\")\n",
    "    ce,date = dat_fun(2,date)\n",
    "    ce,date = dat_fun(ce+1,date)'''"
   ]
  },
  {
   "cell_type": "code",
   "execution_count": null,
   "id": "2ce58d2c",
   "metadata": {},
   "outputs": [],
   "source": [
    "    # j = 0\n",
    "    # i=1\n",
    "    # while i <= 61:\n",
    "    #     if worksheet[2][i].value == worksheet[2][i+1].value and i+j < 60:\n",
    "    #         j= j+1\n",
    "    #     if worksheet[2][i].value == worksheet[2][i+2].value and i+j < 60:\n",
    "    #         j= j+1\n",
    "    #     if worksheet[2][i].value == worksheet[2][i+3].value and i+j < 60:\n",
    "    #         j= j+1\n",
    "    #     if worksheet[2][i].value == worksheet[2][i+4].value and i+j < 60:\n",
    "    #         j= j+1\n",
    "    #     if worksheet[2][i].value == worksheet[2][i+5].value and i+j < 60:\n",
    "    #         j= j+1\n",
    "\n",
    "    #     #print(i+j)\n",
    "    #     worksheet.merge_cells(start_row=2, start_column=i+1, end_row=2, end_column=i+j+1)\n",
    "    #     #worksheet.cell(row=2,column=i+1).border = Border(top=thin, left=thin, right=thin, bottom=thin)\n",
    "    #     worksheet.cell(row=2,column=i+1).alignment = Alignment(horizontal='center')\n",
    "    #     i = i+j+1\n",
    "    #     j= 0\n",
    "\n",
    "\n",
    "    # def merge_equal_columns(r):\n",
    "\n",
    "    #     max_col = 61\n",
    "    #     prev_cell_value = None\n",
    "    #     merge_start_cell = None\n",
    "    #     for col_num in range(1, max_col + 1):\n",
    "    #         cell_value = worksheet.cell(row=r, column=col_num).value\n",
    "    #         if cell_value == prev_cell_value:\n",
    "    #             if merge_start_cell is None:\n",
    "    #                 merge_start_cell = worksheet.cell(row=r, column=col_num - 1)\n",
    "    #             if col_num == max_col:  # If it's the last column, merge the cells\n",
    "    #                 merge_end_cell = worksheet.cell(row=r, column=col_num)\n",
    "    #                 worksheet.merge_cells(f\"{merge_start_cell.coordinate}:{merge_end_cell.coordinate}\")\n",
    "    #         else:\n",
    "    #             if merge_start_cell is not None:\n",
    "    #                 merge_end_cell = worksheet.cell(row=r, column=col_num - 1)\n",
    "    #                 worksheet.merge_cells(f\"{merge_start_cell.coordinate}:{merge_end_cell.coordinate}\")\n",
    "    #                 merge_start_cell = None\n",
    "    #         prev_cell_value = cell_value\n"
   ]
  }
 ],
 "metadata": {
  "kernelspec": {
   "display_name": "Python 3 (ipykernel)",
   "language": "python",
   "name": "python3"
  },
  "language_info": {
   "codemirror_mode": {
    "name": "ipython",
    "version": 3
   },
   "file_extension": ".py",
   "mimetype": "text/x-python",
   "name": "python",
   "nbconvert_exporter": "python",
   "pygments_lexer": "ipython3",
   "version": "3.9.13"
  }
 },
 "nbformat": 4,
 "nbformat_minor": 5
}
